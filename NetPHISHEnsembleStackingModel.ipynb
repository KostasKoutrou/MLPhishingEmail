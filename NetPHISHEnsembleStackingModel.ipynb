{
 "cells": [
  {
   "cell_type": "code",
   "execution_count": 1,
   "metadata": {},
   "outputs": [],
   "source": [
    "#All Imports\n",
    "#For transforming from normal csv to a csv with features appropriate for training\n",
    "from pyspark.ml.feature import OneHotEncoderEstimator, StringIndexer, VectorAssembler\n",
    "from pyspark.ml import Pipeline\n",
    "#The Models and a Performance Evaluator\n",
    "from pyspark.ml.classification import GBTClassifier, DecisionTreeClassifier, LogisticRegression, RandomForestClassifier\n",
    "from pyspark.ml.evaluation import BinaryClassificationEvaluator"
   ]
  },
  {
   "cell_type": "code",
   "execution_count": 2,
   "metadata": {},
   "outputs": [],
   "source": [
    "#Read csv phishing and enron (non-phishing) file\n",
    "df = spark.read.csv(\"/home/elkvm/Documents/MachineLearning/MachineLearningPhishing/code/resources/features_total.csv\", header=\"True\", inferSchema=\"True\")\n",
    "#Delete att1 column which is an ID column and useless for Machine Learning\n",
    "df = df.drop('att1')\n",
    "#df = df.withColumnRenamed('Phishy', 'label')\n",
    "#Might need to change boolean to float\n",
    "for item in df.dtypes:\n",
    "    if item[1]==('boolean'):\n",
    "        df = df.withColumn(item[0], df[item[0]].cast('float'))\n",
    "\n",
    "df1, df2 = df.randomSplit([0.50, 0.50])"
   ]
  },
  {
   "cell_type": "code",
   "execution_count": 3,
   "metadata": {},
   "outputs": [],
   "source": [
    "def feature_vectors(df):\n",
    "    categorical_columns = [item[0] for item in df.dtypes if item[1].startswith('string')]\n",
    "    numerical_columns = [item[0] for item in df.dtypes if item[1].startswith('int') | item[1].startswith('float')]#[1:]\n",
    "    boolean_columns = [item[0] for item in df.dtypes if item[1].startswith('boolean')]\n",
    "    return categorical_columns, numerical_columns, boolean_columns\n",
    "\n",
    "\n",
    "def make_stages(df, label='label'):\n",
    "    #Need the label name to remove it from the database\n",
    "    from pyspark.ml.feature import OneHotEncoderEstimator, StringIndexer, VectorAssembler\n",
    "    cat_cols, num_cols, bool_cols = feature_vectors(df)\n",
    "    stages = []\n",
    "    #Steps to create one \"features\" column\n",
    "    #First encode every categorical (string type) column to a binary vector\n",
    "    #The \"stages\" will be used to apply every change to the database with one command (later)\n",
    "    for categoricalCol in cat_cols:\n",
    "        stringIndexer = StringIndexer(inputCol = categoricalCol, outputCol = categoricalCol + 'Index')\n",
    "        encoder = OneHotEncoderEstimator(inputCols=[stringIndexer.getOutputCol()], outputCols=[categoricalCol + \"classVec\"])\n",
    "    stages += [stringIndexer, encoder]\n",
    "    assemblerInputs = [c + \"classVec\" for c in cat_cols] + num_cols + bool_cols\n",
    "    #Remove the 'label' columns from the features, because it is not a feature.\n",
    "    assemblerInputs.remove(label)\n",
    "    #Combine all the columns into one \"features\" column.\n",
    "    assembler = VectorAssembler(inputCols=assemblerInputs, outputCol=\"features\")\n",
    "    #Add that to the transformations that will happen to the dataframe\n",
    "    stages += [assembler]\n",
    "    return stages\n",
    "\n",
    "\n",
    "def stages_pipeline(df, stages, label='label', features='features'):\n",
    "    #Use pipeline to apply all the stages of transformations\n",
    "    from pyspark.ml import Pipeline\n",
    "    cols = df.columns\n",
    "    pipeline = Pipeline(stages = stages)\n",
    "    pipelineModel = pipeline.fit(df)\n",
    "    df = pipelineModel.transform(df)\n",
    "    selectedCols = [features]+cols\n",
    "    df = df.select(selectedCols)\n",
    "    #Keep only the features and the label columns\n",
    "    df = df.select(features, label)\n",
    "    return df\n",
    "\n",
    "\n",
    "def csv2features(df, label='label'):\n",
    "    for item in df.dtypes:\n",
    "        if item[1]==('boolean'):\n",
    "            df = df.withColumn(item[0], df[item[0]].cast('float'))\n",
    "    df = df.withColumnRenamed(label, 'label')\n",
    "    stages = make_stages(df)\n",
    "    df = stages_pipeline(df, stages)\n",
    "    return df\n",
    "\n",
    "def trainandevaluate(df, classifier, label='label'):\n",
    "    df = csv2features(df, label)\n",
    "    dftrain, dftest = df.randomSplit([0.90, 0.10], seed=444)\n",
    "    model = classifier.fit(dftrain)\n",
    "    predictions = model.transform(dftest)\n",
    "    from pyspark.ml.evaluation import BinaryClassificationEvaluator\n",
    "    evaluator = BinaryClassificationEvaluator()\n",
    "    print(\"Test_SET (Area Under ROC): \" + str(evaluator.evaluate(predictions, {evaluator.metricName: \"areaUnderROC\"})))\n",
    "    cm = predictions.select('label','prediction')\n",
    "    print(\"Accuracy: \" + str(cm.filter(cm.label == cm.prediction).count() / cm.count()))\n",
    "    return model"
   ]
  },
  {
   "cell_type": "code",
   "execution_count": 4,
   "metadata": {
    "scrolled": true
   },
   "outputs": [
    {
     "name": "stdout",
     "output_type": "stream",
     "text": [
      "Test_SET (Area Under ROC): 0.9963914384735498\n",
      "Accuracy: 0.971677559912854\n"
     ]
    }
   ],
   "source": [
    "#Use half of the df to train one model and the other \n",
    "df1, df2 = df.randomSplit([0.50, 0.50], seed=240)\n",
    "\n",
    "gbt = GBTClassifier(maxDepth=4)\n",
    "gbt_model = trainandevaluate(df, gbt, 'Phishy')"
   ]
  },
  {
   "cell_type": "code",
   "execution_count": 5,
   "metadata": {
    "scrolled": true
   },
   "outputs": [
    {
     "name": "stdout",
     "output_type": "stream",
     "text": [
      "+--------------+---+\n",
      "|prevPrediction| id|\n",
      "+--------------+---+\n",
      "|           0.0|  0|\n",
      "|           0.0|  1|\n",
      "|           0.0|  2|\n",
      "|           0.0|  3|\n",
      "|           0.0|  4|\n",
      "|           0.0|  5|\n",
      "|           0.0|  6|\n",
      "|           0.0|  7|\n",
      "|           0.0|  8|\n",
      "|           0.0|  9|\n",
      "|           0.0| 10|\n",
      "|           0.0| 11|\n",
      "|           0.0| 12|\n",
      "|           0.0| 13|\n",
      "|           0.0| 14|\n",
      "|           0.0| 15|\n",
      "|           0.0| 16|\n",
      "|           0.0| 17|\n",
      "|           0.0| 18|\n",
      "|           0.0| 19|\n",
      "+--------------+---+\n",
      "only showing top 20 rows\n",
      "\n",
      "+---------+-----------+---+--------+------------------+-------------+------------+---------+-----------+-----------+----------+------+----+---+\n",
      "|@ in URLs|Attachments|Css|Encoding|External Resources|Flash content|HTML content|Html Form|Html iFrame|IPs in URLs|Javascript|Phishy|URLs| id|\n",
      "+---------+-----------+---+--------+------------------+-------------+------------+---------+-----------+-----------+----------+------+----+---+\n",
      "|      0.0|          0|  0|    7bit|                 0|          0.0|         0.0|      0.0|        0.0|        0.0|         0|   0.0|   0|  0|\n",
      "|      0.0|          0|  0|    7bit|                 0|          0.0|         0.0|      0.0|        0.0|        0.0|         0|   0.0|   0|  1|\n",
      "|      0.0|          0|  0|    7bit|                 0|          0.0|         0.0|      0.0|        0.0|        0.0|         0|   0.0|   0|  2|\n",
      "|      0.0|          0|  0|    7bit|                 0|          0.0|         0.0|      0.0|        0.0|        0.0|         0|   0.0|   0|  3|\n",
      "|      0.0|          0|  0|    7bit|                 0|          0.0|         0.0|      0.0|        0.0|        0.0|         0|   0.0|   0|  4|\n",
      "|      0.0|          0|  0|    7bit|                 0|          0.0|         0.0|      0.0|        0.0|        0.0|         0|   0.0|   0|  5|\n",
      "|      0.0|          0|  0|    7bit|                 0|          0.0|         0.0|      0.0|        0.0|        0.0|         0|   0.0|   0|  6|\n",
      "|      0.0|          0|  0|    7bit|                 0|          0.0|         0.0|      0.0|        0.0|        0.0|         0|   0.0|   0|  7|\n",
      "|      0.0|          0|  0|    7bit|                 0|          0.0|         0.0|      0.0|        0.0|        0.0|         0|   0.0|   0|  8|\n",
      "|      0.0|          0|  0|    7bit|                 0|          0.0|         0.0|      0.0|        0.0|        0.0|         0|   0.0|   0|  9|\n",
      "|      0.0|          0|  0|    7bit|                 0|          0.0|         0.0|      0.0|        0.0|        0.0|         0|   0.0|   0| 10|\n",
      "|      0.0|          0|  0|    7bit|                 0|          0.0|         0.0|      0.0|        0.0|        0.0|         0|   0.0|   0| 11|\n",
      "|      0.0|          0|  0|    7bit|                 0|          0.0|         0.0|      0.0|        0.0|        0.0|         0|   0.0|   0| 12|\n",
      "|      0.0|          0|  0|    7bit|                 0|          0.0|         0.0|      0.0|        0.0|        0.0|         0|   0.0|   0| 13|\n",
      "|      0.0|          0|  0|    7bit|                 0|          0.0|         0.0|      0.0|        0.0|        0.0|         0|   0.0|   0| 14|\n",
      "|      0.0|          0|  0|    7bit|                 0|          0.0|         0.0|      0.0|        0.0|        0.0|         0|   0.0|   0| 15|\n",
      "|      0.0|          0|  0|    7bit|                 0|          0.0|         0.0|      0.0|        0.0|        0.0|         0|   0.0|   0| 16|\n",
      "|      0.0|          0|  0|    7bit|                 0|          0.0|         0.0|      0.0|        0.0|        0.0|         0|   0.0|   0| 17|\n",
      "|      0.0|          0|  0|    7bit|                 0|          0.0|         0.0|      0.0|        0.0|        0.0|         0|   0.0|   0| 18|\n",
      "|      0.0|          0|  0|    7bit|                 0|          0.0|         0.0|      0.0|        0.0|        0.0|         0|   0.0|   0| 19|\n",
      "+---------+-----------+---+--------+------------------+-------------+------------+---------+-----------+-----------+----------+------+----+---+\n",
      "only showing top 20 rows\n",
      "\n"
     ]
    }
   ],
   "source": [
    "df2_predictions = gbt_model.transform(csv2features(df2, 'Phishy'))\n",
    "\n",
    "from pyspark.sql.functions import monotonically_increasing_id\n",
    "cm = df2_predictions.select('prediction')\n",
    "cm = cm.withColumnRenamed('prediction', 'prevPrediction')\n",
    "cm = cm.withColumn(\"id\",monotonically_increasing_id())\n",
    "df2 = df2.withColumn(\"id\",monotonically_increasing_id())\n",
    "\n",
    "cm.show(20)\n",
    "df2.show(20)"
   ]
  },
  {
   "cell_type": "code",
   "execution_count": 6,
   "metadata": {
    "scrolled": true
   },
   "outputs": [],
   "source": [
    "df2 = df2.join(cm, \"id\")"
   ]
  },
  {
   "cell_type": "code",
   "execution_count": 7,
   "metadata": {},
   "outputs": [],
   "source": [
    "df2 = df2.drop(\"id\")"
   ]
  },
  {
   "cell_type": "code",
   "execution_count": 8,
   "metadata": {},
   "outputs": [
    {
     "name": "stdout",
     "output_type": "stream",
     "text": [
      "Test_SET (Area Under ROC): 0.9690993788819875\n",
      "Accuracy: 0.9647577092511013\n"
     ]
    }
   ],
   "source": [
    "dt = DecisionTreeClassifier(maxDepth=7)\n",
    "dt_model = trainandevaluate(df2, dt, 'Phishy')"
   ]
  },
  {
   "cell_type": "code",
   "execution_count": 9,
   "metadata": {},
   "outputs": [
    {
     "name": "stdout",
     "output_type": "stream",
     "text": [
      "Test_SET (Area Under ROC): 0.9900621118012422\n",
      "Accuracy: 0.9647577092511013\n"
     ]
    }
   ],
   "source": [
    "gbt_stacked = GBTClassifier(maxDepth=4)\n",
    "gbt_stacked_model = trainandevaluate(df2, gbt, 'Phishy')"
   ]
  },
  {
   "cell_type": "code",
   "execution_count": null,
   "metadata": {},
   "outputs": [],
   "source": []
  }
 ],
 "metadata": {
  "kernelspec": {
   "display_name": "Python 3",
   "language": "python",
   "name": "python3"
  },
  "language_info": {
   "codemirror_mode": {
    "name": "ipython",
    "version": 3
   },
   "file_extension": ".py",
   "mimetype": "text/x-python",
   "name": "python",
   "nbconvert_exporter": "python",
   "pygments_lexer": "ipython3",
   "version": "3.5.2"
  }
 },
 "nbformat": 4,
 "nbformat_minor": 2
}
